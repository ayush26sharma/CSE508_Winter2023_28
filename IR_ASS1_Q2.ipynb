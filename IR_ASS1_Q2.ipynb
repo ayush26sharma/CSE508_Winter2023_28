{
  "cells": [
    {
      "cell_type": "code",
      "execution_count": null,
      "metadata": {
        "colab": {
          "base_uri": "https://localhost:8080/"
        },
        "id": "6aw0Sc4vQyou",
        "outputId": "c35466da-6ca7-47ca-c750-a43c9b306360"
      },
      "outputs": [],
      "source": [
        "import nltk\n",
        "import glob\n",
        "import os\n",
        "import re\n",
        "import pickle\n",
        "import os\n",
        "from nltk.tokenize import sent_tokenize, word_tokenize\n",
        "nltk.download('punkt')\n",
        "from nltk.corpus import stopwords\n",
        "nltk.download('stopwords')\n",
        "stop_words = set(stopwords.words('english'))"
      ]
    },
    {
      "cell_type": "code",
      "execution_count": 69,
      "metadata": {
        "id": "rE5ggQoOAMs9"
      },
      "outputs": [],
      "source": [
        "def rem_sw(arr):\n",
        "  global stop_words\n",
        "  reg_str = r'^'\n",
        "  for i in range(len(arr)):\n",
        "    for sw in stop_words:\n",
        "      reg_str+=sw\n",
        "      reg_str+='$'\n",
        "      arr[i] = re.sub(reg_str, '', arr[i])\n",
        "      reg_str = r'^'\n",
        "  return arr\n",
        "\n",
        "def rem_punc(str):\n",
        "  str = re.sub(r'(\\.|\\?|\\,|!|\\:|\\;|\\&|\\-|\\(|\\)|\\{|\\}|\\'|\\\"|\\/)', ' ', str)\n",
        "  return str"
      ]
    },
    {
      "cell_type": "code",
      "execution_count": 70,
      "metadata": {
        "id": "tvcJQtccAP7s"
      },
      "outputs": [],
      "source": [
        "def preprocessing(s):\n",
        "    s = s.lower()\n",
        "    s = re.sub(r'(\\.|\\?|\\,|!|\\:|\\;|\\&|\\-|\\(|\\)|\\{|\\}|\\'|\\\"|\\/)', ' ', s)\n",
        "    s = word_tokenize(s)\n",
        "    s = rem_sw(s)\n",
        "    for j in range(len(s)):\n",
        "      s[j] = rem_punc(s[j])\n",
        "    s[:] = [j for j in s if (j!='' and j!=' ')]\n",
        "    return s"
      ]
    },
    {
      "cell_type": "code",
      "execution_count": 71,
      "metadata": {
        "id": "1HeXLtAwShaq"
      },
      "outputs": [],
      "source": [
        "def generate_query(string, operations):\n",
        "    s = \"\"\n",
        "    for i in range(min(len(string), len(operations))):\n",
        "        s += string[i]\n",
        "        s += \" \"\n",
        "        s += operations[i]\n",
        "        s += \" \"\n",
        "        \n",
        "    if len(string) > len(operations):\n",
        "        j = len(operations)\n",
        "        while(j<len(string)):\n",
        "            s += string[j]\n",
        "            s += \" \"\n",
        "            j += 1\n",
        "    else:\n",
        "        j = len(string)\n",
        "        while(j<len(operations)):\n",
        "            s += operations[j]\n",
        "            s += \" \"\n",
        "            j += 1\n",
        "    return s"
      ]
    },
    {
      "cell_type": "code",
      "execution_count": 72,
      "metadata": {
        "id": "sL_Tr-Iw9FO6"
      },
      "outputs": [],
      "source": [
        "def load_data(path):\n",
        "    entries = os.listdir(path)\n",
        "    tokenised_docs = {}\n",
        "    for i in entries:\n",
        "        path1 = path+\"/\"+i\n",
        "        f = open(path1, \"r\")\n",
        "        a = list(f.read().split(\",\"))\n",
        "        tokenised_docs[i] = a\n",
        "        \n",
        "    # print(len(tokenised_docs))\n",
        "    # print(doc_ids)\n",
        "\n",
        "    # print(\"////////////////////////////////////////////////\")\n",
        "\n",
        "    return tokenised_docs\n",
        "\n",
        "\n",
        "\n",
        "def create_index(tokenised_docs):\n",
        "    inverted_index = {}\n",
        "    for doc_id, tokens in tokenised_docs.items():\n",
        "        for i in tokens:\n",
        "            if i not in inverted_index:\n",
        "                inverted_index[i] = [doc_id]\n",
        "            else:\n",
        "                if doc_id not in inverted_index[i]:\n",
        "                    inverted_index[i].append(doc_id)\n",
        "    return inverted_index\n",
        "\n",
        "\n",
        "\n",
        "def save_index(inverted_index):\n",
        "    with open('inverted_index.pickle', 'wb') as f:\n",
        "        pickle.dump(inverted_index, f)\n",
        "\n",
        "\n",
        "\n",
        "def load_index():\n",
        "    with open('inverted_index.pickle', 'rb') as f:\n",
        "        loaded_inverted_index = pickle.load(f)"
      ]
    },
    {
      "cell_type": "code",
      "execution_count": 74,
      "metadata": {
        "id": "XzNE8S1z9UdJ"
      },
      "outputs": [],
      "source": [
        "def intersection(set_1, set_2):\n",
        "    comp = 0\n",
        "    res = set()\n",
        "    if len(set_1) < len(set_2):\n",
        "        set_1, set_2 = set_2, set_1\n",
        "    for doc_id in set_2:\n",
        "        comp += 1\n",
        "        if doc_id in set_1:\n",
        "            res.add(doc_id)\n",
        "    return res, comp\n",
        "\n",
        "def union(set_1, set_2):\n",
        "    comp = 0\n",
        "    res = set_1.copy()\n",
        "    for doc_id in set_2:\n",
        "        comp += 1\n",
        "        res.add(doc_id)\n",
        "    return res, comp\n",
        "\n",
        "def difference(set_1, set_2):\n",
        "    comp = 0\n",
        "    res = set_1.copy()\n",
        "    for doc_id in set_2:\n",
        "        comp += 1\n",
        "        res.discard(doc_id)\n",
        "    return res, comp\n",
        "\n",
        "def evaluate_query(index, doc_ids, query):\n",
        "    words = query.split()\n",
        "    doc_id_sets = []\n",
        "    operation = None\n",
        "    not_operation = False\n",
        "    comp = 0\n",
        "    for i in words:\n",
        "        if i == 'AND':\n",
        "            operation = intersection\n",
        "        elif i == 'OR':\n",
        "            operation = union\n",
        "        elif i == 'NOT':\n",
        "            not_operation = True\n",
        "        else:\n",
        "            if i in index:\n",
        "                posting = index[i]\n",
        "                if not_operation:\n",
        "                    posting = difference(doc_ids, posting)[0]\n",
        "                    not_operation = False\n",
        "                doc_id_sets.append(posting)\n",
        "            else:\n",
        "                doc_id_sets.append(set())\n",
        "    if not doc_id_sets:\n",
        "        return set(), 0\n",
        "    if len(doc_id_sets) == 1:\n",
        "        return doc_id_sets[0], 0\n",
        "    res = doc_id_sets[0]\n",
        "    for i in range(1, len(doc_id_sets)):\n",
        "        if not res:\n",
        "            break\n",
        "        if operation is None:\n",
        "            operation = union\n",
        "        if not_operation:\n",
        "            not_operation = False\n",
        "            doc_id_sets[i] = difference(doc_ids, doc_id_sets[i])[0]\n",
        "            operation = difference\n",
        "        res, op_comp = operation(res, doc_id_sets[i])\n",
        "        comp += op_comp\n",
        "        operation = None\n",
        "    return res, comp\n"
      ]
    },
    {
      "cell_type": "code",
      "execution_count": 79,
      "metadata": {
        "colab": {
          "base_uri": "https://localhost:8080/"
        },
        "id": "HI7IOebT5y9x",
        "outputId": "be85b03b-b07f-40cc-e5f1-fa6db4f433aa"
      },
      "outputs": [
        {
          "name": "stdout",
          "output_type": "stream",
          "text": [
            "Enter number of queries: 2\n",
            "Enter string: Car bag in a canister\n",
            "Enter operations: OR, AND NOT\n",
            "\n",
            "Enter string: Coffee brewing techniques in cookbook\n",
            "Enter operations: AND, OR NOT, OR\n",
            "\n",
            "-----------------------------------------------------------------------------------------------------\n",
            "\n",
            "Query 1: car OR bag AND NOT canister \n",
            "Number of documents retrieved for query 1: 0\n",
            "Names of the documents retrieved for query 1: NONE\n",
            "Number of comparisons: 0\n",
            "\n",
            "-----------------------------------------------------------------------------------------------------\n",
            "\n",
            "Query 2: coffee AND brewing OR NOT techniques OR cookbook \n",
            "Number of documents retrieved for query 2: 0\n",
            "Names of the documents retrieved for query 2: NONE\n",
            "Number of comparisons: 0\n",
            "\n",
            "-----------------------------------------------------------------------------------------------------\n",
            "\n"
          ]
        }
      ],
      "source": [
        "def main():\n",
        "    path = \"drive/MyDrive/data/data/\"\n",
        "    tokenised_docs = load_data(path)\n",
        "    index = create_index(tokenised_docs)\n",
        "    doc_ids = set(tokenised_docs.keys())\n",
        "\n",
        "    n = int(input(\"Enter number of queries: \"))\n",
        "    queries = []\n",
        "    for z in range(n):\n",
        "        string = input(\"Enter string: \")\n",
        "        string = preprocessing(string)\n",
        "        operations = list(input(\"Enter operations: \").split(\",\"))\n",
        "        for i in range(len(operations)):\n",
        "            operations[i] = operations[i].strip()\n",
        "        queries.append(generate_query(string, operations))\n",
        "        print()\n",
        "    print(\"-----------------------------------------------------------------------------------------------------\")    \n",
        "    print()\n",
        "    \n",
        "    i = 0\n",
        "    for query in queries:\n",
        "        i += 1\n",
        "        result, comparisons = evaluate_query(index, doc_ids, query)\n",
        "        print(f'Query {i}: {query}')\n",
        "        print(f'Number of documents retrieved for query {i}: {len(result)}')\n",
        "\n",
        "        if len(result)==0:\n",
        "            print(f'Names of the documents retrieved for query {i}: NONE')\n",
        "        else:\n",
        "            print(f'Names of the documents retrieved for query {i}: {result}')\n",
        "            \n",
        "        print(f'Number of comparisons: {comparisons}')\n",
        "        print()\n",
        "        print(\"-----------------------------------------------------------------------------------------------------\")\n",
        "        print()\n",
        "\n",
        "if __name__ == '__main__':\n",
        "    main()\n"
      ]
    }
  ],
  "metadata": {
    "colab": {
      "provenance": []
    },
    "kernelspec": {
      "display_name": "Python 3",
      "name": "python3"
    },
    "language_info": {
      "name": "python"
    }
  },
  "nbformat": 4,
  "nbformat_minor": 0
}
