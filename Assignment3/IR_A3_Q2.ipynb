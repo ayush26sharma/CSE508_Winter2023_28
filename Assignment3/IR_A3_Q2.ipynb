{
  "cells": [
    {
      "cell_type": "code",
      "execution_count": 31,
      "id": "c25e041f",
      "metadata": {
        "id": "c25e041f"
      },
      "outputs": [],
      "source": [
        "import os\n",
        "import networkx as nx\n",
        "import numpy as np\n",
        "import pandas as pd\n",
        "from sklearn.metrics import mean_squared_error as mse\n",
        "import matplotlib.pyplot as plt\n",
        "import nltk"
      ]
    },
    {
      "cell_type": "code",
      "source": [
        "from google.colab import drive\n",
        "drive.mount('/content/drive')"
      ],
      "metadata": {
        "colab": {
          "base_uri": "https://localhost:8080/"
        },
        "id": "rdcwBWGDzKab",
        "outputId": "67a0745b-177f-4dad-a0ee-bc7f5a764a21"
      },
      "id": "rdcwBWGDzKab",
      "execution_count": 32,
      "outputs": [
        {
          "output_type": "stream",
          "name": "stdout",
          "text": [
            "Drive already mounted at /content/drive; to attempt to forcibly remount, call drive.mount(\"/content/drive\", force_remount=True).\n"
          ]
        }
      ]
    },
    {
      "cell_type": "code",
      "source": [
        "data = \"/content/drive/MyDrive/Wiki-Vote.txt\""
      ],
      "metadata": {
        "id": "H7dWOvtJeC9h"
      },
      "id": "H7dWOvtJeC9h",
      "execution_count": 33,
      "outputs": []
    },
    {
      "cell_type": "code",
      "execution_count": 34,
      "id": "1fc80769",
      "metadata": {
        "id": "1fc80769"
      },
      "outputs": [],
      "source": [
        "content = []\n",
        "with open(data) as f:\n",
        "    content = f.readlines()\n",
        "\n",
        "info = content[:3]\n",
        "content = content[3::]\n",
        "for i, line in enumerate(content):\n",
        "    content[i] = nltk.RegexpTokenizer(r\"\\w+\").tokenize(line)\n",
        "info[-1] = nltk.RegexpTokenizer(r\"\\w+\").tokenize(info[-1])\n",
        "\n",
        "df = pd.DataFrame(content[1::], columns = content[0])\n",
        "df[\"FromNodeId\"] = df[\"FromNodeId\"].map(int)\n",
        "df[\"ToNodeId\"] = df[\"ToNodeId\"].map(int)\n",
        "    "
      ]
    },
    {
      "cell_type": "code",
      "source": [
        "df"
      ],
      "metadata": {
        "colab": {
          "base_uri": "https://localhost:8080/",
          "height": 423
        },
        "id": "Y13o315Teyud",
        "outputId": "9cd62124-67f6-4e1e-b7e5-4532b3040dad"
      },
      "id": "Y13o315Teyud",
      "execution_count": 35,
      "outputs": [
        {
          "output_type": "execute_result",
          "data": {
            "text/plain": [
              "        FromNodeId  ToNodeId\n",
              "0               30      1412\n",
              "1               30      3352\n",
              "2               30      5254\n",
              "3               30      5543\n",
              "4               30      7478\n",
              "...            ...       ...\n",
              "103684        8272      4940\n",
              "103685        8273      4940\n",
              "103686        8150      8275\n",
              "103687        8150      8276\n",
              "103688        8274      8275\n",
              "\n",
              "[103689 rows x 2 columns]"
            ],
            "text/html": [
              "\n",
              "  <div id=\"df-bf6c1f39-4602-49ce-8a79-114189a9ca34\">\n",
              "    <div class=\"colab-df-container\">\n",
              "      <div>\n",
              "<style scoped>\n",
              "    .dataframe tbody tr th:only-of-type {\n",
              "        vertical-align: middle;\n",
              "    }\n",
              "\n",
              "    .dataframe tbody tr th {\n",
              "        vertical-align: top;\n",
              "    }\n",
              "\n",
              "    .dataframe thead th {\n",
              "        text-align: right;\n",
              "    }\n",
              "</style>\n",
              "<table border=\"1\" class=\"dataframe\">\n",
              "  <thead>\n",
              "    <tr style=\"text-align: right;\">\n",
              "      <th></th>\n",
              "      <th>FromNodeId</th>\n",
              "      <th>ToNodeId</th>\n",
              "    </tr>\n",
              "  </thead>\n",
              "  <tbody>\n",
              "    <tr>\n",
              "      <th>0</th>\n",
              "      <td>30</td>\n",
              "      <td>1412</td>\n",
              "    </tr>\n",
              "    <tr>\n",
              "      <th>1</th>\n",
              "      <td>30</td>\n",
              "      <td>3352</td>\n",
              "    </tr>\n",
              "    <tr>\n",
              "      <th>2</th>\n",
              "      <td>30</td>\n",
              "      <td>5254</td>\n",
              "    </tr>\n",
              "    <tr>\n",
              "      <th>3</th>\n",
              "      <td>30</td>\n",
              "      <td>5543</td>\n",
              "    </tr>\n",
              "    <tr>\n",
              "      <th>4</th>\n",
              "      <td>30</td>\n",
              "      <td>7478</td>\n",
              "    </tr>\n",
              "    <tr>\n",
              "      <th>...</th>\n",
              "      <td>...</td>\n",
              "      <td>...</td>\n",
              "    </tr>\n",
              "    <tr>\n",
              "      <th>103684</th>\n",
              "      <td>8272</td>\n",
              "      <td>4940</td>\n",
              "    </tr>\n",
              "    <tr>\n",
              "      <th>103685</th>\n",
              "      <td>8273</td>\n",
              "      <td>4940</td>\n",
              "    </tr>\n",
              "    <tr>\n",
              "      <th>103686</th>\n",
              "      <td>8150</td>\n",
              "      <td>8275</td>\n",
              "    </tr>\n",
              "    <tr>\n",
              "      <th>103687</th>\n",
              "      <td>8150</td>\n",
              "      <td>8276</td>\n",
              "    </tr>\n",
              "    <tr>\n",
              "      <th>103688</th>\n",
              "      <td>8274</td>\n",
              "      <td>8275</td>\n",
              "    </tr>\n",
              "  </tbody>\n",
              "</table>\n",
              "<p>103689 rows × 2 columns</p>\n",
              "</div>\n",
              "      <button class=\"colab-df-convert\" onclick=\"convertToInteractive('df-bf6c1f39-4602-49ce-8a79-114189a9ca34')\"\n",
              "              title=\"Convert this dataframe to an interactive table.\"\n",
              "              style=\"display:none;\">\n",
              "        \n",
              "  <svg xmlns=\"http://www.w3.org/2000/svg\" height=\"24px\"viewBox=\"0 0 24 24\"\n",
              "       width=\"24px\">\n",
              "    <path d=\"M0 0h24v24H0V0z\" fill=\"none\"/>\n",
              "    <path d=\"M18.56 5.44l.94 2.06.94-2.06 2.06-.94-2.06-.94-.94-2.06-.94 2.06-2.06.94zm-11 1L8.5 8.5l.94-2.06 2.06-.94-2.06-.94L8.5 2.5l-.94 2.06-2.06.94zm10 10l.94 2.06.94-2.06 2.06-.94-2.06-.94-.94-2.06-.94 2.06-2.06.94z\"/><path d=\"M17.41 7.96l-1.37-1.37c-.4-.4-.92-.59-1.43-.59-.52 0-1.04.2-1.43.59L10.3 9.45l-7.72 7.72c-.78.78-.78 2.05 0 2.83L4 21.41c.39.39.9.59 1.41.59.51 0 1.02-.2 1.41-.59l7.78-7.78 2.81-2.81c.8-.78.8-2.07 0-2.86zM5.41 20L4 18.59l7.72-7.72 1.47 1.35L5.41 20z\"/>\n",
              "  </svg>\n",
              "      </button>\n",
              "      \n",
              "  <style>\n",
              "    .colab-df-container {\n",
              "      display:flex;\n",
              "      flex-wrap:wrap;\n",
              "      gap: 12px;\n",
              "    }\n",
              "\n",
              "    .colab-df-convert {\n",
              "      background-color: #E8F0FE;\n",
              "      border: none;\n",
              "      border-radius: 50%;\n",
              "      cursor: pointer;\n",
              "      display: none;\n",
              "      fill: #1967D2;\n",
              "      height: 32px;\n",
              "      padding: 0 0 0 0;\n",
              "      width: 32px;\n",
              "    }\n",
              "\n",
              "    .colab-df-convert:hover {\n",
              "      background-color: #E2EBFA;\n",
              "      box-shadow: 0px 1px 2px rgba(60, 64, 67, 0.3), 0px 1px 3px 1px rgba(60, 64, 67, 0.15);\n",
              "      fill: #174EA6;\n",
              "    }\n",
              "\n",
              "    [theme=dark] .colab-df-convert {\n",
              "      background-color: #3B4455;\n",
              "      fill: #D2E3FC;\n",
              "    }\n",
              "\n",
              "    [theme=dark] .colab-df-convert:hover {\n",
              "      background-color: #434B5C;\n",
              "      box-shadow: 0px 1px 3px 1px rgba(0, 0, 0, 0.15);\n",
              "      filter: drop-shadow(0px 1px 2px rgba(0, 0, 0, 0.3));\n",
              "      fill: #FFFFFF;\n",
              "    }\n",
              "  </style>\n",
              "\n",
              "      <script>\n",
              "        const buttonEl =\n",
              "          document.querySelector('#df-bf6c1f39-4602-49ce-8a79-114189a9ca34 button.colab-df-convert');\n",
              "        buttonEl.style.display =\n",
              "          google.colab.kernel.accessAllowed ? 'block' : 'none';\n",
              "\n",
              "        async function convertToInteractive(key) {\n",
              "          const element = document.querySelector('#df-bf6c1f39-4602-49ce-8a79-114189a9ca34');\n",
              "          const dataTable =\n",
              "            await google.colab.kernel.invokeFunction('convertToInteractive',\n",
              "                                                     [key], {});\n",
              "          if (!dataTable) return;\n",
              "\n",
              "          const docLinkHtml = 'Like what you see? Visit the ' +\n",
              "            '<a target=\"_blank\" href=https://colab.research.google.com/notebooks/data_table.ipynb>data table notebook</a>'\n",
              "            + ' to learn more about interactive tables.';\n",
              "          element.innerHTML = '';\n",
              "          dataTable['output_type'] = 'display_data';\n",
              "          await google.colab.output.renderOutput(dataTable, element);\n",
              "          const docLink = document.createElement('div');\n",
              "          docLink.innerHTML = docLinkHtml;\n",
              "          element.appendChild(docLink);\n",
              "        }\n",
              "      </script>\n",
              "    </div>\n",
              "  </div>\n",
              "  "
            ]
          },
          "metadata": {},
          "execution_count": 35
        }
      ]
    },
    {
      "cell_type": "code",
      "source": [
        "# G = nx.from_pandas_edgelist(df,source = \"FromNodeId\", target = \"ToNodeId\")\n",
        "# G = G.to_directed()"
      ],
      "metadata": {
        "id": "dbggyQ5bfCpI"
      },
      "id": "dbggyQ5bfCpI",
      "execution_count": 36,
      "outputs": []
    },
    {
      "cell_type": "code",
      "source": [
        "G=nx.DiGraph()\n",
        "for i in range(len(df)):\n",
        "  G.add_edge(df[\"FromNodeId\"][i],df['ToNodeId'][i])"
      ],
      "metadata": {
        "id": "IKXthHX4V4Hp"
      },
      "id": "IKXthHX4V4Hp",
      "execution_count": 37,
      "outputs": []
    },
    {
      "cell_type": "code",
      "execution_count": 38,
      "id": "362c6650",
      "metadata": {
        "id": "362c6650"
      },
      "outputs": [],
      "source": [
        "def PageRank(G):\n",
        "    node_val = {}\n",
        "    pg_rank = {}\n",
        "    errors = []\n",
        "    total_nodes = G.number_of_nodes()\n",
        "\n",
        "    alpha = 0.85\n",
        "    iterations = 100\n",
        "    \n",
        "    for node in G.nodes():\n",
        "        pg_rank[node] = 1/total_nodes\n",
        "        node_val[node] = 0\n",
        "        \n",
        "\n",
        "    for _ in range(iterations):            \n",
        "        for node in G.nodes():\n",
        "            output_edges = G.out_edges(node)\n",
        "            n_edges = len(output_edges)\n",
        "            for edge in output_edges:\n",
        "                node_val[edge[1]] += pg_rank[edge[0]]/n_edges\n",
        "\n",
        "        for node in G.nodes():\n",
        "            node_val[node] = (1-alpha)/total_nodes + alpha*node_val[node]\n",
        "        \n",
        "        error = mse(list(pg_rank.values()),list(node_val.values()))\n",
        "        errors.append(error)\n",
        "        \n",
        "        for node in G.nodes():\n",
        "            pg_rank[node] = node_val[node]\n",
        "            node_val[node] = 0\n",
        "        \n",
        "        if error < 1e-15:\n",
        "            break\n",
        "        \n",
        "    return errors, pg_rank"
      ]
    },
    {
      "cell_type": "code",
      "execution_count": 39,
      "id": "f20f0a7e",
      "metadata": {
        "id": "f20f0a7e"
      },
      "outputs": [],
      "source": [
        "error, rank = PageRank(G)"
      ]
    },
    {
      "cell_type": "code",
      "execution_count": 40,
      "id": "0153f79a",
      "metadata": {
        "scrolled": true,
        "colab": {
          "base_uri": "https://localhost:8080/",
          "height": 462
        },
        "id": "0153f79a",
        "outputId": "2a0a1209-873a-431f-e245-988c12b90d77"
      },
      "outputs": [
        {
          "output_type": "execute_result",
          "data": {
            "text/plain": [
              "[<matplotlib.lines.Line2D at 0x7fe9e4576eb0>]"
            ]
          },
          "metadata": {},
          "execution_count": 40
        },
        {
          "output_type": "display_data",
          "data": {
            "text/plain": [
              "<Figure size 640x480 with 1 Axes>"
            ],
            "image/png": "[encoded data removed]"
          },
          "metadata": {}
        }
      ],
      "source": [
        "plt.plot(error)"
      ]
    },
    {
      "cell_type": "code",
      "source": [
        "def authority_hubs(G, max_iters = 100):\n",
        "    hub = {}\n",
        "    authority = {}\n",
        "    error1 = []\n",
        "    error2 = []\n",
        "    \n",
        "    for node in G.nodes():\n",
        "        hub[node] = 1\n",
        "        authority[node] = 1\n",
        "    \n",
        "    temp_auth = authority.copy()\n",
        "    temp_hub = hub.copy()\n",
        "    \n",
        "    \n",
        "    for _ in range(max_iters):\n",
        "        ### updating authority scores\n",
        "        temp=0    \n",
        "        for node in G.nodes():\n",
        "            edges = G.in_edges(node)\n",
        "            authority[node] = 0\n",
        "          \n",
        "            for edge in edges:  \n",
        "              authority[node] += hub[edge[0]]\n",
        "                    \n",
        "            temp += authority[node]**2\n",
        "        temp = np.sqrt(temp)\n",
        "        for node in G.nodes():\n",
        "            authority[node] /= temp \n",
        "\n",
        "        ### updating hub scores\n",
        "        temp=0\n",
        "        for node in G.nodes():\n",
        "            edges = G.out_edges(node)\n",
        "            hub[node] = 0\n",
        "          \n",
        "            for edge in edges:  \n",
        "              hub[node] += authority[edge[1]]\n",
        "                    \n",
        "            temp += hub[node]**2\n",
        "        temp = np.sqrt(temp)\n",
        "        for node in G.nodes():\n",
        "            hub[node] /= temp \n",
        "\n",
        "\n",
        "        \n",
        "        error1.append(mse(list(authority.values()),list(temp_auth.values())))\n",
        "        error2.append(mse(list(hub.values()),list(temp_hub.values())))\n",
        "\n",
        "        temp_auth = authority.copy()\n",
        "        temp_hub = hub.copy()\n",
        "        \n",
        "        if error1[-1] < 1e-20 and error2[-1] < 1e-20:\n",
        "            break\n",
        "            \n",
        "    return authority, hub, error1[1::], error2[1::]"
      ],
      "metadata": {
        "id": "8_Us-Wkvx2Y5"
      },
      "id": "8_Us-Wkvx2Y5",
      "execution_count": 41,
      "outputs": []
    },
    {
      "cell_type": "code",
      "execution_count": 42,
      "id": "63164ab0",
      "metadata": {
        "id": "63164ab0"
      },
      "outputs": [],
      "source": [
        "authority, hub, error1, error2 = authority_hubs(G)"
      ]
    },
    {
      "cell_type": "code",
      "execution_count": 43,
      "id": "5af11aab",
      "metadata": {
        "colab": {
          "base_uri": "https://localhost:8080/",
          "height": 480
        },
        "id": "5af11aab",
        "outputId": "94d93e6e-ad46-411c-c4a6-f43ec2501b7d"
      },
      "outputs": [
        {
          "output_type": "execute_result",
          "data": {
            "text/plain": [
              "[<matplotlib.lines.Line2D at 0x7fe9e21b2b50>,\n",
              " <matplotlib.lines.Line2D at 0x7fe9e21b2b80>]"
            ]
          },
          "metadata": {},
          "execution_count": 43
        },
        {
          "output_type": "display_data",
          "data": {
            "text/plain": [
              "<Figure size 640x480 with 1 Axes>"
            ],
            "image/png": "[encoded data removed]"
          },
          "metadata": {}
        }
      ],
      "source": [
        "plt.plot(error1,'r',error2, 'b')\n"
      ]
    },
    {
      "cell_type": "code",
      "source": [
        "def sort_dict(ranks):\n",
        "  temp=dict(ranks)\n",
        "  sorted_ranks = sorted(temp.items(), key=lambda item: item[1], reverse = True)\n",
        "  print(\"NodeId   Score\")\n",
        "\n",
        "  for i in range(10):\n",
        "    print(sorted_ranks[i][0],\"\\t\",sorted_ranks[i][1])\n",
        "    i+=1\n",
        "\n",
        "  print()\n",
        "  print()\n",
        "  return sorted_ranks\n"
      ],
      "metadata": {
        "id": "kgNcTwpI3WF7"
      },
      "id": "kgNcTwpI3WF7",
      "execution_count": 44,
      "outputs": []
    },
    {
      "cell_type": "code",
      "execution_count": 45,
      "id": "061e0524",
      "metadata": {
        "colab": {
          "base_uri": "https://localhost:8080/"
        },
        "id": "061e0524",
        "outputId": "c9ce002c-f0b4-4bd1-8ecc-018a82722457"
      },
      "outputs": [
        {
          "output_type": "stream",
          "name": "stdout",
          "text": [
            "top 10 rank scores: \n",
            "NodeId   Score\n",
            "4037 \t 0.0019241311389590733\n",
            "15 \t 0.0015369371893900383\n",
            "6634 \t 0.0014988609865573734\n",
            "2625 \t 0.001371535149427395\n",
            "2398 \t 0.0010896489086301506\n",
            "2470 \t 0.0010539097484338054\n",
            "2237 \t 0.001042634004914745\n",
            "4191 \t 0.0009472408397925709\n",
            "7553 \t 0.0009062507094909314\n",
            "5254 \t 0.0008980262120648992\n",
            "\n",
            "\n",
            "top 10 authority scores: \n",
            "NodeId   Score\n",
            "2398 \t 0.09211925178717026\n",
            "4037 \t 0.09187268402901715\n",
            "3352 \t 0.08313163612682965\n",
            "1549 \t 0.0822503546435512\n",
            "762 \t 0.08054172500769863\n",
            "3089 \t 0.08045360346596589\n",
            "1297 \t 0.08033713852810939\n",
            "2565 \t 0.07938813074309921\n",
            "15 \t 0.07860192662339409\n",
            "2625 \t 0.078471728898818\n",
            "\n",
            "\n",
            "top 10 hub scores: \n",
            "NodeId   Score\n",
            "2565 \t 0.2191839488482209\n",
            "766 \t 0.20907678925989998\n",
            "2688 \t 0.1777722438561388\n",
            "457 \t 0.17712691955651996\n",
            "1166 \t 0.1659116200118411\n",
            "1549 \t 0.15791179639870212\n",
            "11 \t 0.13584095614738909\n",
            "1151 \t 0.12620349562227773\n",
            "1374 \t 0.123328557131714\n",
            "1133 \t 0.10817414045591804\n",
            "\n",
            "\n"
          ]
        }
      ],
      "source": [
        "print(\"top 10 rank scores: \")\n",
        "rank = sort_dict(rank)\n",
        "\n",
        "print(\"top 10 authority scores: \")\n",
        "authority = sort_dict(authority)\n",
        "\n",
        "print(\"top 10 hub scores: \")\n",
        "hub = sort_dict(hub)"
      ]
    }
  ],
  "metadata": {
    "kernelspec": {
      "display_name": "Python 3 (ipykernel)",
      "language": "python",
      "name": "python3"
    },
    "language_info": {
      "codemirror_mode": {
        "name": "ipython",
        "version": 3
      },
      "file_extension": ".py",
      "mimetype": "text/x-python",
      "name": "python",
      "nbconvert_exporter": "python",
      "pygments_lexer": "ipython3",
      "version": "3.10.4"
    },
    "colab": {
      "provenance": []
    }
  },
  "nbformat": 4,
  "nbformat_minor": 5
}