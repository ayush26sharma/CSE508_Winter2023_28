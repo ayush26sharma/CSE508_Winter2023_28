{
  "cells": [
    {
      "cell_type": "code",
      "execution_count": 1,
      "metadata": {
        "colab": {
          "base_uri": "https://localhost:8080/"
        },
        "id": "6aw0Sc4vQyou",
        "outputId": "ba200aa6-f375-44a8-e982-079addfc0b97"
      },
      "outputs": [
        {
          "output_type": "stream",
          "name": "stderr",
          "text": [
            "[nltk_data] Downloading package punkt to /root/nltk_data...\n",
            "[nltk_data]   Unzipping tokenizers/punkt.zip.\n",
            "[nltk_data] Downloading package stopwords to /root/nltk_data...\n",
            "[nltk_data]   Unzipping corpora/stopwords.zip.\n"
          ]
        }
      ],
      "source": [
        "import nltk\n",
        "import glob\n",
        "import os\n",
        "import re\n",
        "import pickle\n",
        "import os\n",
        "from nltk.tokenize import sent_tokenize, word_tokenize\n",
        "nltk.download('punkt')\n",
        "from nltk.corpus import stopwords\n",
        "nltk.download('stopwords')\n",
        "stop_words = set(stopwords.words('english'))"
      ]
    },
    {
      "cell_type": "code",
      "source": [
        "from google.colab import drive\n",
        "drive.mount('/content/drive')"
      ],
      "metadata": {
        "colab": {
          "base_uri": "https://localhost:8080/"
        },
        "id": "v01wB8ArrRc_",
        "outputId": "8f51a7e4-015f-4edc-ece5-5d3f366556f2"
      },
      "execution_count": 2,
      "outputs": [
        {
          "output_type": "stream",
          "name": "stdout",
          "text": [
            "Mounted at /content/drive\n"
          ]
        }
      ]
    },
    {
      "cell_type": "code",
      "execution_count": 3,
      "metadata": {
        "id": "rE5ggQoOAMs9"
      },
      "outputs": [],
      "source": [
        "def rem_sw(arr):\n",
        "  global stop_words\n",
        "  reg_str = r'^'\n",
        "  for i in range(len(arr)):\n",
        "    for sw in stop_words:\n",
        "      reg_str+=sw\n",
        "      reg_str+='$'\n",
        "      arr[i] = re.sub(reg_str, '', arr[i])\n",
        "      reg_str = r'^'\n",
        "  return arr\n",
        "\n",
        "def rem_punc(str):\n",
        "  str = re.sub(r'(\\.|\\?|\\,|!|\\:|\\;|\\&|\\-|\\(|\\)|\\{|\\}|\\'|\\\"|\\/)', ' ', str)\n",
        "  return str"
      ]
    },
    {
      "cell_type": "code",
      "execution_count": 4,
      "metadata": {
        "id": "tvcJQtccAP7s"
      },
      "outputs": [],
      "source": [
        "def preprocessing(s):\n",
        "    s = s.lower()\n",
        "    s = re.sub(r'(\\.|\\?|\\,|!|\\:|\\;|\\&|\\-|\\(|\\)|\\{|\\}|\\'|\\\"|\\/)', ' ', s)\n",
        "    s = word_tokenize(s)\n",
        "    s = rem_sw(s)\n",
        "    for j in range(len(s)):\n",
        "      s[j] = rem_punc(s[j])\n",
        "    s[:] = [j for j in s if (j!='' and j!=' ')]\n",
        "    return s"
      ]
    },
    {
      "cell_type": "code",
      "execution_count": 5,
      "metadata": {
        "id": "1HeXLtAwShaq"
      },
      "outputs": [],
      "source": [
        "def generate_query(string, operations):\n",
        "    s = \"\"\n",
        "    for i in range(min(len(string), len(operations))):\n",
        "        s += string[i]\n",
        "        s += \" \"\n",
        "        s += operations[i]\n",
        "        s += \" \"\n",
        "        \n",
        "    if len(string) > len(operations):\n",
        "        j = len(operations)\n",
        "        while(j<len(string)):\n",
        "            s += string[j]\n",
        "            s += \" \"\n",
        "            j += 1\n",
        "    else:\n",
        "        j = len(string)\n",
        "        while(j<len(operations)):\n",
        "            s += operations[j]\n",
        "            s += \" \"\n",
        "            j += 1\n",
        "    return s"
      ]
    },
    {
      "cell_type": "code",
      "execution_count": 6,
      "metadata": {
        "id": "sL_Tr-Iw9FO6"
      },
      "outputs": [],
      "source": [
        "def load_data(path):\n",
        "    entries = os.listdir(path)\n",
        "    tokenised_docs = {}\n",
        "    for i in entries:\n",
        "        path1 = path+\"/\"+i\n",
        "        f = open(path1, \"r\")\n",
        "        a = list(f.read().split(\",\"))\n",
        "        tokenised_docs[i] = a\n",
        "        \n",
        "    # print(len(tokenised_docs))\n",
        "    # print(doc_ids)\n",
        "\n",
        "    # print(\"////////////////////////////////////////////////\")\n",
        "\n",
        "    return tokenised_docs\n",
        "\n",
        "\n",
        "\n",
        "def create_index(tokenised_docs):\n",
        "    inverted_index = {}\n",
        "    for doc_id, tokens in tokenised_docs.items():\n",
        "        for i in tokens:\n",
        "            if i not in inverted_index:\n",
        "                inverted_index[i] = [doc_id]\n",
        "            else:\n",
        "                if doc_id not in inverted_index[i]:\n",
        "                    inverted_index[i].append(doc_id)\n",
        "    return inverted_index\n",
        "\n",
        "\n",
        "\n",
        "def save_index(inverted_index):\n",
        "    with open('inverted_index.pickle', 'wb') as f:\n",
        "        pickle.dump(inverted_index, f)\n",
        "\n",
        "\n",
        "\n",
        "def load_index():\n",
        "    with open('inverted_index.pickle', 'rb') as f:\n",
        "        loaded_inverted_index = pickle.load(f)"
      ]
    },
    {
      "cell_type": "code",
      "execution_count": 12,
      "metadata": {
        "id": "XzNE8S1z9UdJ"
      },
      "outputs": [],
      "source": [
        "def intersection(set_1, set_2):\n",
        "    comp = 0\n",
        "    res = set()\n",
        "    if len(set_1) < len(set_2):\n",
        "        set_1, set_2 = set_2, set_1\n",
        "    for doc_id in set_2:\n",
        "        comp += 1\n",
        "        if doc_id in set_1:\n",
        "            res.add(doc_id)\n",
        "    return res, comp\n",
        "\n",
        "def union(set_1, set_2):\n",
        "    comp = 0\n",
        "    res = set(set_1.copy())\n",
        "    for doc_id in set_2:\n",
        "        comp += 1\n",
        "        res.add(doc_id)\n",
        "    return res, comp\n",
        "\n",
        "def difference(set_1, set_2):\n",
        "    comp = 0\n",
        "    res = set(set_1.copy())\n",
        "    for doc_id in set_2:\n",
        "        comp += 1\n",
        "        res.discard(doc_id)\n",
        "    return res, comp\n",
        "\n",
        "def evaluate_query(index, doc_ids, query):\n",
        "    words = query.split()\n",
        "    doc_ids_set = []\n",
        "    operation = None\n",
        "    not_operation = False\n",
        "    comp = 0\n",
        "    res = set(doc_ids)\n",
        "    for word in words:\n",
        "        if word == 'AND':\n",
        "            operation = intersection\n",
        "        elif word == 'OR':\n",
        "            operation = union\n",
        "        elif word == 'NOT':\n",
        "            not_operation = True\n",
        "        else:\n",
        "            if word in index:\n",
        "                posting = index[word]\n",
        "                if not_operation:\n",
        "                    if doc_ids_set and operation == union:\n",
        "                        not_posting = difference(res, posting)[0]\n",
        "                        res = difference(res, posting)[0]\n",
        "                    else:\n",
        "                        not_posting = posting\n",
        "                        for prev_posting in doc_ids_set:\n",
        "                            not_posting = difference(not_posting, prev_posting)[0]\n",
        "                            res = intersection(res, not_posting)[0]\n",
        "                    not_operation = False\n",
        "                else:\n",
        "                    doc_ids_set.append(posting)\n",
        "                    res, op_comparisons = operation(res, posting) if operation is not None else (posting, 0)\n",
        "                    comp += op_comparisons\n",
        "                    operation = None\n",
        "            else:\n",
        "                doc_ids_set.append(set())\n",
        "    return res, comp"
      ]
    },
    {
      "cell_type": "code",
      "execution_count": 15,
      "metadata": {
        "colab": {
          "base_uri": "https://localhost:8080/"
        },
        "id": "HI7IOebT5y9x",
        "outputId": "9ee2c077-42d3-4661-8b72-64331d1ab2c1"
      },
      "outputs": [
        {
          "output_type": "stream",
          "name": "stdout",
          "text": [
            "Enter number of queries: 2\n",
            "Enter string: experimental investigation\n",
            "Enter operations: OR NOT\n",
            "\n",
            "Enter string: experimental investigation\n",
            "Enter operations: AND NOT\n",
            "\n",
            "-----------------------------------------------------------------------------------------------------\n",
            "\n",
            "Query 1: experimental OR NOT investigation \n",
            "Number of documents retrieved for query 1: 229\n",
            "Names of the documents retrieved for query 1: ['cranfield0011', 'cranfield0012', 'cranfield0017', 'cranfield0025', 'cranfield0035', 'cranfield0041', 'cranfield0042', 'cranfield0047', 'cranfield0052', 'cranfield0053', 'cranfield0058', 'cranfield0069', 'cranfield0070', 'cranfield0099', 'cranfield0101', 'cranfield0103', 'cranfield0112', 'cranfield0115', 'cranfield0121', 'cranfield0123', 'cranfield0137', 'cranfield0140', 'cranfield0142', 'cranfield0154', 'cranfield0156', 'cranfield0168', 'cranfield0171', 'cranfield0183', 'cranfield0186', 'cranfield0191', 'cranfield0195', 'cranfield0203', 'cranfield0206', 'cranfield0220', 'cranfield0227', 'cranfield0230', 'cranfield0234', 'cranfield0256', 'cranfield0257', 'cranfield0262', 'cranfield0271', 'cranfield0273', 'cranfield0277', 'cranfield0282', 'cranfield0283', 'cranfield0286', 'cranfield0295', 'cranfield0304', 'cranfield0307', 'cranfield0329', 'cranfield0330', 'cranfield0334', 'cranfield0338', 'cranfield0344', 'cranfield0345', 'cranfield0346', 'cranfield0347', 'cranfield0354', 'cranfield0360', 'cranfield0369', 'cranfield0370', 'cranfield0377', 'cranfield0397', 'cranfield0409', 'cranfield0411', 'cranfield0413', 'cranfield0418', 'cranfield0420', 'cranfield0421', 'cranfield0435', 'cranfield0439', 'cranfield0441', 'cranfield0453', 'cranfield0455', 'cranfield0464', 'cranfield0467', 'cranfield0484', 'cranfield0494', 'cranfield0496', 'cranfield0498', 'cranfield0501', 'cranfield0503', 'cranfield0504', 'cranfield0511', 'cranfield0518', 'cranfield0520', 'cranfield0536', 'cranfield0540', 'cranfield0544', 'cranfield0553', 'cranfield0558', 'cranfield0563', 'cranfield0572', 'cranfield0576', 'cranfield0588', 'cranfield0595', 'cranfield0600', 'cranfield0606', 'cranfield0610', 'cranfield0632', 'cranfield0644', 'cranfield0645', 'cranfield0649', 'cranfield0663', 'cranfield0666', 'cranfield0670', 'cranfield0675', 'cranfield0678', 'cranfield0679', 'cranfield0685', 'cranfield0688', 'cranfield0704', 'cranfield0717', 'cranfield0720', 'cranfield0728', 'cranfield0729', 'cranfield0740', 'cranfield0743', 'cranfield0753', 'cranfield0760', 'cranfield0767', 'cranfield0781', 'cranfield0790', 'cranfield0802', 'cranfield0806', 'cranfield0820', 'cranfield0823', 'cranfield0825', 'cranfield0827', 'cranfield0829', 'cranfield0830', 'cranfield0845', 'cranfield0846', 'cranfield0847', 'cranfield0856', 'cranfield0857', 'cranfield0863', 'cranfield0866', 'cranfield0867', 'cranfield0869', 'cranfield0878', 'cranfield0881', 'cranfield0891', 'cranfield0911', 'cranfield0912', 'cranfield0923', 'cranfield0924', 'cranfield0928', 'cranfield0935', 'cranfield0950', 'cranfield0951', 'cranfield0954', 'cranfield0955', 'cranfield0961', 'cranfield0964', 'cranfield0965', 'cranfield0974', 'cranfield0984', 'cranfield0999', 'cranfield1006', 'cranfield1008', 'cranfield1016', 'cranfield1028', 'cranfield1040', 'cranfield1045', 'cranfield1046', 'cranfield1049', 'cranfield1051', 'cranfield1069', 'cranfield1070', 'cranfield1076', 'cranfield1080', 'cranfield1081', 'cranfield1082', 'cranfield1112', 'cranfield1118', 'cranfield1122', 'cranfield1125', 'cranfield1127', 'cranfield1145', 'cranfield1146', 'cranfield1151', 'cranfield1153', 'cranfield1155', 'cranfield1158', 'cranfield1160', 'cranfield1167', 'cranfield1171', 'cranfield1177', 'cranfield1185', 'cranfield1186', 'cranfield1187', 'cranfield1192', 'cranfield1195', 'cranfield1196', 'cranfield1198', 'cranfield1199', 'cranfield1204', 'cranfield1209', 'cranfield1212', 'cranfield1214', 'cranfield1216', 'cranfield1218', 'cranfield1222', 'cranfield1228', 'cranfield1234', 'cranfield1237', 'cranfield1261', 'cranfield1262', 'cranfield1263', 'cranfield1264', 'cranfield1268', 'cranfield1269', 'cranfield1277', 'cranfield1290', 'cranfield1298', 'cranfield1302', 'cranfield1310', 'cranfield1314', 'cranfield1339', 'cranfield1363', 'cranfield1369', 'cranfield1372', 'cranfield1374', 'cranfield1384', 'cranfield1390', 'cranfield1392', 'cranfield1396', 'cranfield1397']\n",
            "Number of comparisons: 0\n",
            "\n",
            "-----------------------------------------------------------------------------------------------------\n",
            "\n",
            "Query 2: experimental AND NOT investigation \n",
            "Number of documents retrieved for query 2: 0\n",
            "Names of the documents retrieved for query 2: NONE\n",
            "Number of comparisons: 0\n",
            "\n",
            "-----------------------------------------------------------------------------------------------------\n",
            "\n"
          ]
        }
      ],
      "source": [
        "def main():\n",
        "    path = \"drive/MyDrive/data/data/\"\n",
        "    tokenised_docs = load_data(path)\n",
        "    index = create_index(tokenised_docs)\n",
        "    doc_ids = set(tokenised_docs.keys())\n",
        "\n",
        "    n = int(input(\"Enter number of queries: \"))\n",
        "    queries = []\n",
        "    for z in range(n):\n",
        "        string = input(\"Enter string: \")\n",
        "        string = preprocessing(string)\n",
        "        operations = list(input(\"Enter operations: \").split(\",\"))\n",
        "        for i in range(len(operations)):\n",
        "            operations[i] = operations[i].strip()\n",
        "        queries.append(generate_query(string, operations))\n",
        "        print()\n",
        "    print(\"-----------------------------------------------------------------------------------------------------\")    \n",
        "    print()\n",
        "    \n",
        "    i = 0\n",
        "    for query in queries:\n",
        "        i += 1\n",
        "        result, comparisons = evaluate_query(index, doc_ids, query)\n",
        "        print(f'Query {i}: {query}')\n",
        "        print(f'Number of documents retrieved for query {i}: {len(result)}')\n",
        "\n",
        "        if len(result)==0:\n",
        "            print(f'Names of the documents retrieved for query {i}: NONE')\n",
        "        else:\n",
        "            lst = list(result)\n",
        "            lst.sort()\n",
        "            print(f'Names of the documents retrieved for query {i}: {lst}')\n",
        "            \n",
        "        print(f'Number of comparisons: {comparisons}')\n",
        "        print()\n",
        "        print(\"-----------------------------------------------------------------------------------------------------\")\n",
        "        print()\n",
        "\n",
        "if __name__ == '__main__':\n",
        "    main()\n"
      ]
    }
  ],
  "metadata": {
    "colab": {
      "provenance": []
    },
    "kernelspec": {
      "display_name": "Python 3",
      "name": "python3"
    },
    "language_info": {
      "name": "python"
    }
  },
  "nbformat": 4,
  "nbformat_minor": 0
}